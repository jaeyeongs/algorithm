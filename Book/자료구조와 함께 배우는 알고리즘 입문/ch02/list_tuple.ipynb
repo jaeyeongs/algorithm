{
 "cells": [
  {
   "cell_type": "markdown",
   "id": "804d3625",
   "metadata": {},
   "source": [
    "## 리스트의 기초"
   ]
  },
  {
   "cell_type": "markdown",
   "id": "139af0a7",
   "metadata": {},
   "source": [
    "- 리스트는 원소를 변경할 수 있는 mutable list형 객체\n",
    "- 리스트는 연산자 [] 안에 원소를 쉼표(,)로 구분하여 생성할 수 있음\n",
    "- 원소 없이 []만 사용하면 빈 리스트 생성"
   ]
  },
  {
   "cell_type": "code",
   "execution_count": 1,
   "id": "7089722f",
   "metadata": {},
   "outputs": [],
   "source": [
    "list01 = []              # [] 빈 리스트\n",
    "list02 = [1, 2, 3]       # [1, 2, 3]\n",
    "list03 = ['A', 'B', 'C', ] # ['A', 'B', 'C'] 맨 마지막 원소에 쉼표를 써도 됨"
   ]
  },
  {
   "cell_type": "code",
   "execution_count": 3,
   "id": "d09dde2e",
   "metadata": {},
   "outputs": [
    {
     "name": "stdout",
     "output_type": "stream",
     "text": [
      "[]\n",
      "[1, 2, 3]\n",
      "['A', 'B', 'C']\n"
     ]
    }
   ],
   "source": [
    "print(list01)\n",
    "print(list02)\n",
    "print(list03)"
   ]
  },
  {
   "cell_type": "code",
   "execution_count": 4,
   "id": "05df8c42",
   "metadata": {},
   "outputs": [],
   "source": [
    "# 파이썬 내장 함수인 list()를 사용하면 문자열이나 튜플 등 다양한 자료형 객체를 원소로 하는 리스트를 생성\n",
    "list04 = list()           # [] 빈 리스트\n",
    "list05 = list('ABC')      # ['A', 'B', 'C'] 문자열의 각 문자로부터 원소를 생성\n",
    "list06 = list([1, 2, 3])  # [1, 2, 3] 리스트로부터 원소를 생성\n",
    "list07 = list((1, 2, 3))  # [1, 2, 3] 튜플로부터 원소를 생성\n",
    "list08 = list({1, 2, 3})  # [1, 2, 3] 집합으로부터 원소를 생성"
   ]
  },
  {
   "cell_type": "code",
   "execution_count": 5,
   "id": "f4bd78d3",
   "metadata": {},
   "outputs": [
    {
     "name": "stdout",
     "output_type": "stream",
     "text": [
      "[]\n",
      "['A', 'B', 'C']\n",
      "[1, 2, 3]\n",
      "[1, 2, 3]\n",
      "[1, 2, 3]\n"
     ]
    }
   ],
   "source": [
    "print(list04)\n",
    "print(list05)\n",
    "print(list06)\n",
    "print(list07)\n",
    "print(list08)"
   ]
  },
  {
   "cell_type": "code",
   "execution_count": 6,
   "id": "6b1b178b",
   "metadata": {},
   "outputs": [],
   "source": [
    "# 특정 범위의 정수로 구성된 리스트를 만들고자 한다면 range(), list() 함수를 조합하여 사용\n",
    "list09 = list(range(7))\n",
    "list10 = list(range(3, 8))\n",
    "list11 = list(range(3, 13, 2))"
   ]
  },
  {
   "cell_type": "code",
   "execution_count": 7,
   "id": "6e0901d9",
   "metadata": {},
   "outputs": [
    {
     "name": "stdout",
     "output_type": "stream",
     "text": [
      "[0, 1, 2, 3, 4, 5, 6]\n",
      "[3, 4, 5, 6, 7]\n",
      "[3, 5, 7, 9, 11]\n"
     ]
    }
   ],
   "source": [
    "print(list09)\n",
    "print(list10)\n",
    "print(list11)"
   ]
  },
  {
   "cell_type": "code",
   "execution_count": 8,
   "id": "ffb403e7",
   "metadata": {},
   "outputs": [],
   "source": [
    "# 원솟값을 정하지 않는 리스트는 None을 사용하여 만들 수 있음\n",
    "# 원소가 5개이면서 원솟값이 없는 리스트 생성\n",
    "list12 = [None] * 5"
   ]
  },
  {
   "cell_type": "code",
   "execution_count": 9,
   "id": "6e8c2159",
   "metadata": {},
   "outputs": [
    {
     "name": "stdout",
     "output_type": "stream",
     "text": [
      "[None, None, None, None, None]\n"
     ]
    }
   ],
   "source": [
    "print(list12)"
   ]
  },
  {
   "cell_type": "markdown",
   "id": "5124ffa6",
   "metadata": {},
   "source": [
    "## 튜플의 기초"
   ]
  },
  {
   "cell_type": "markdown",
   "id": "632350c9",
   "metadata": {},
   "source": [
    "- 튜플은 원소에 순서를 매겨 결합한 것으로 원소를 변경할 수 없는 immutable 자료형\n",
    "- 튜플은 원소를 쉼표(,)로 구분하여 나열한 뒤 결합 연산자()로 둘러싸는 방식으로 생성\n",
    "- 리스트와 마찬가지로 맨 마지막 원소 뒤에 쉼표를 써도 되며, ()만 사용하면 빈 튜플 생성\n",
    "- 튜플은 리스트와 다르게 결합 연산자 ()를 생략할 수 있음"
   ]
  },
  {
   "cell_type": "code",
   "execution_count": 10,
   "id": "7967f831",
   "metadata": {},
   "outputs": [],
   "source": [
    "# tuple02, tuple03의 경우 원소가 1개인 경우 원소 뒤에 쉼표를 반드시 입력해야 함\n",
    "# 쉼표가 없으면 튜플이 아니라 단순 변수로 여기기 때문\n",
    "tuple01 = ()    \n",
    "tuple02 = 1,    \n",
    "tuple03 = (1,)"
   ]
  },
  {
   "cell_type": "code",
   "execution_count": 11,
   "id": "d128ce94",
   "metadata": {},
   "outputs": [
    {
     "name": "stdout",
     "output_type": "stream",
     "text": [
      "()\n",
      "(1,)\n",
      "(1,)\n"
     ]
    }
   ],
   "source": [
    "print(tuple01)\n",
    "print(tuple02)\n",
    "print(tuple03)"
   ]
  },
  {
   "cell_type": "code",
   "execution_count": 12,
   "id": "a531d62d",
   "metadata": {},
   "outputs": [],
   "source": [
    "tuple04 = 1, 2, 3\n",
    "tuple05 = 1, 2, 3,\n",
    "tuple06 = (1, 2, 3)\n",
    "tuple07 = (1, 2, 3,)\n",
    "tuple08 = 'A', 'B', 'C',"
   ]
  },
  {
   "cell_type": "code",
   "execution_count": 13,
   "id": "4d537d8f",
   "metadata": {},
   "outputs": [
    {
     "name": "stdout",
     "output_type": "stream",
     "text": [
      "(1, 2, 3)\n",
      "(1, 2, 3)\n",
      "(1, 2, 3)\n",
      "(1, 2, 3)\n",
      "('A', 'B', 'C')\n"
     ]
    }
   ],
   "source": [
    "print(tuple04)\n",
    "print(tuple05)\n",
    "print(tuple06)\n",
    "print(tuple07)\n",
    "print(tuple08)"
   ]
  },
  {
   "cell_type": "code",
   "execution_count": 14,
   "id": "16e1196a",
   "metadata": {},
   "outputs": [],
   "source": [
    "# 파이썬 내장 함수인 tuple()을 사용하면 문자열이나 리스트 등 여러 가지 자료형 객체를 원소로 하는 튜플을 생성\n",
    "tuple09 = tuple()\n",
    "tuple10 = tuple('ABC')      \n",
    "tuple11 = tuple([1, 2, 3])  \n",
    "tuple12 = tuple({1, 2, 3})  "
   ]
  },
  {
   "cell_type": "code",
   "execution_count": 15,
   "id": "c7d7f8af",
   "metadata": {},
   "outputs": [
    {
     "name": "stdout",
     "output_type": "stream",
     "text": [
      "()\n",
      "('A', 'B', 'C')\n",
      "(1, 2, 3)\n",
      "(1, 2, 3)\n"
     ]
    }
   ],
   "source": [
    "print(tuple09)\n",
    "print(tuple10)\n",
    "print(tuple11)\n",
    "print(tuple12)"
   ]
  },
  {
   "cell_type": "code",
   "execution_count": 16,
   "id": "42160fe6",
   "metadata": {},
   "outputs": [],
   "source": [
    "# 리스트와 마찬가지로 특정 범위의 값을 원소로 갖는 튜플은 range() 함수가 생성하는 수열을 tuple() 함수로 변환\n",
    "tuple13 = tuple(range(7))\n",
    "tuple14 = tuple(range(3, 8))\n",
    "tuple15 = tuple(range(3, 13, 2))"
   ]
  },
  {
   "cell_type": "code",
   "execution_count": 17,
   "id": "973a9bee",
   "metadata": {},
   "outputs": [
    {
     "name": "stdout",
     "output_type": "stream",
     "text": [
      "(0, 1, 2, 3, 4, 5, 6)\n",
      "(3, 4, 5, 6, 7)\n",
      "(3, 5, 7, 9, 11)\n"
     ]
    }
   ],
   "source": [
    "print(tuple13)\n",
    "print(tuple14)\n",
    "print(tuple15)"
   ]
  },
  {
   "cell_type": "markdown",
   "id": "a9064d56",
   "metadata": {},
   "source": [
    "## 리스트와 튜플 풀어내기"
   ]
  },
  {
   "cell_type": "code",
   "execution_count": 18,
   "id": "76538481",
   "metadata": {},
   "outputs": [
    {
     "data": {
      "text/plain": [
       "(1, 2, 3)"
      ]
     },
     "execution_count": 18,
     "metadata": {},
     "output_type": "execute_result"
    }
   ],
   "source": [
    "# 리스트나 튜플의 원솟값들을 풀어 여러 변수에 대입하는 것을 'unpack'이라고 함\n",
    "x = [1, 2, 3]   # 리스트 x 선언\n",
    "a, b, c = x     # x를 unpack하여 변수 a, b, c에 대입\n",
    "a, b, c"
   ]
  },
  {
   "cell_type": "code",
   "execution_count": null,
   "id": "f13cdfb4",
   "metadata": {},
   "outputs": [],
   "source": []
  }
 ],
 "metadata": {
  "kernelspec": {
   "display_name": "Python 3",
   "language": "python",
   "name": "python3"
  },
  "language_info": {
   "codemirror_mode": {
    "name": "ipython",
    "version": 3
   },
   "file_extension": ".py",
   "mimetype": "text/x-python",
   "name": "python",
   "nbconvert_exporter": "python",
   "pygments_lexer": "ipython3",
   "version": "3.8.8"
  }
 },
 "nbformat": 4,
 "nbformat_minor": 5
}
