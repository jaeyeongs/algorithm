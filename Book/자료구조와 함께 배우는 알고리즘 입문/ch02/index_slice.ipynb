{
 "cells": [
  {
   "cell_type": "markdown",
   "id": "e8efaf15",
   "metadata": {},
   "source": [
    "## 인덱스로 원소에 접근하기"
   ]
  },
  {
   "cell_type": "code",
   "execution_count": 1,
   "id": "80eb0704",
   "metadata": {},
   "outputs": [
    {
     "data": {
      "text/plain": [
       "33"
      ]
     },
     "execution_count": 1,
     "metadata": {},
     "output_type": "execute_result"
    }
   ],
   "source": [
    "x = [11, 22, 33, 44, 55, 66, 77]\n",
    "x[2]  # 리스트 x의 앞에서 3번째 원소를 출력"
   ]
  },
  {
   "cell_type": "code",
   "execution_count": 2,
   "id": "17e156ed",
   "metadata": {},
   "outputs": [
    {
     "data": {
      "text/plain": [
       "55"
      ]
     },
     "execution_count": 2,
     "metadata": {},
     "output_type": "execute_result"
    }
   ],
   "source": [
    "x[-3]  # 리스트 x의 뒤에서 3번째 원소를 출력"
   ]
  },
  {
   "cell_type": "code",
   "execution_count": 3,
   "id": "5a76cd60",
   "metadata": {},
   "outputs": [
    {
     "data": {
      "text/plain": [
       "[11, 22, 33, 3.14, 55, 66, 77]"
      ]
     },
     "execution_count": 3,
     "metadata": {},
     "output_type": "execute_result"
    }
   ],
   "source": [
    "x[-4] = 3.14  # 리스트 x의 뒤에서 4번째 원소에 새로운 값을 대입\n",
    "x"
   ]
  },
  {
   "cell_type": "code",
   "execution_count": 4,
   "id": "5d3b271a",
   "metadata": {},
   "outputs": [
    {
     "ename": "IndexError",
     "evalue": "list index out of range",
     "output_type": "error",
     "traceback": [
      "\u001b[1;31m---------------------------------------------------------------------------\u001b[0m",
      "\u001b[1;31mIndexError\u001b[0m                                Traceback (most recent call last)",
      "\u001b[1;32m<ipython-input-4-1515eb8c000f>\u001b[0m in \u001b[0;36m<module>\u001b[1;34m\u001b[0m\n\u001b[1;32m----> 1\u001b[1;33m \u001b[0mx\u001b[0m\u001b[1;33m[\u001b[0m\u001b[1;36m7\u001b[0m\u001b[1;33m]\u001b[0m\u001b[1;33m\u001b[0m\u001b[1;33m\u001b[0m\u001b[0m\n\u001b[0m",
      "\u001b[1;31mIndexError\u001b[0m: list index out of range"
     ]
    }
   ],
   "source": [
    "x[7]  # 존재하지 않는 인덱스이므로 오류를 출력"
   ]
  },
  {
   "cell_type": "code",
   "execution_count": 5,
   "id": "97d70f5d",
   "metadata": {},
   "outputs": [
    {
     "ename": "IndexError",
     "evalue": "list assignment index out of range",
     "output_type": "error",
     "traceback": [
      "\u001b[1;31m---------------------------------------------------------------------------\u001b[0m",
      "\u001b[1;31mIndexError\u001b[0m                                Traceback (most recent call last)",
      "\u001b[1;32m<ipython-input-5-46d5d68ae9dd>\u001b[0m in \u001b[0;36m<module>\u001b[1;34m\u001b[0m\n\u001b[1;32m----> 1\u001b[1;33m \u001b[0mx\u001b[0m\u001b[1;33m[\u001b[0m\u001b[1;36m7\u001b[0m\u001b[1;33m]\u001b[0m \u001b[1;33m=\u001b[0m \u001b[1;36m3.14\u001b[0m\u001b[1;33m\u001b[0m\u001b[1;33m\u001b[0m\u001b[0m\n\u001b[0m",
      "\u001b[1;31mIndexError\u001b[0m: list assignment index out of range"
     ]
    }
   ],
   "source": [
    "x[7] = 3.14  # 존재하지 않는 인덱스는 값을 대입할 수 없음"
   ]
  },
  {
   "cell_type": "markdown",
   "id": "cd9386a0",
   "metadata": {},
   "source": [
    "## 슬라이스식으로 원소에 접근하기"
   ]
  },
  {
   "cell_type": "markdown",
   "id": "7eef92f8",
   "metadata": {},
   "source": [
    "- s[i:j] -> s[i] 부터 s[j-1] 까지 나열\n",
    "- s[i:j:k] -> s[i] 부터 s[j-1] 까지 k씩 건너뛰며 나열"
   ]
  },
  {
   "cell_type": "code",
   "execution_count": 6,
   "id": "2ae97c82",
   "metadata": {},
   "outputs": [
    {
     "data": {
      "text/plain": [
       "[11, 22, 33, 44, 55, 66]"
      ]
     },
     "execution_count": 6,
     "metadata": {},
     "output_type": "execute_result"
    }
   ],
   "source": [
    "s = [11, 22, 33, 44, 55, 66, 77]\n",
    "s[0:6]  # 리스트 s의 0번째 원소부터 5번째 원소를 출력"
   ]
  },
  {
   "cell_type": "code",
   "execution_count": 7,
   "id": "12d97060",
   "metadata": {},
   "outputs": [
    {
     "data": {
      "text/plain": [
       "[11, 22, 33, 44, 55, 66, 77]"
      ]
     },
     "execution_count": 7,
     "metadata": {},
     "output_type": "execute_result"
    }
   ],
   "source": [
    "s[0:7]  # 리스트 0번째 원소부터 6번째 원소를 출력"
   ]
  },
  {
   "cell_type": "code",
   "execution_count": 8,
   "id": "d51e85f1",
   "metadata": {},
   "outputs": [
    {
     "data": {
      "text/plain": [
       "[11, 33, 55, 77]"
      ]
     },
     "execution_count": 8,
     "metadata": {},
     "output_type": "execute_result"
    }
   ],
   "source": [
    "s[0:7:2]  # 리스트 s의 0번째 원소부터 6번째 원소 중 2씩 건너뛰며 원소를 출력"
   ]
  },
  {
   "cell_type": "code",
   "execution_count": 9,
   "id": "2eb401e6",
   "metadata": {},
   "outputs": [
    {
     "data": {
      "text/plain": [
       "[44, 55]"
      ]
     },
     "execution_count": 9,
     "metadata": {},
     "output_type": "execute_result"
    }
   ],
   "source": [
    "s[-4:-2]  # 리스트 s의 뒤에서 4번째 원소부터 뒤에서 3번째 원소를 출력"
   ]
  },
  {
   "cell_type": "code",
   "execution_count": 10,
   "id": "3c680233",
   "metadata": {},
   "outputs": [
    {
     "data": {
      "text/plain": [
       "[]"
      ]
     },
     "execution_count": 10,
     "metadata": {},
     "output_type": "execute_result"
    }
   ],
   "source": [
    "s[3:1]  # 리스트 s의 j값(1)이 i값(3)보다 작지만 오류가 나지 않음"
   ]
  },
  {
   "cell_type": "code",
   "execution_count": null,
   "id": "29749c25",
   "metadata": {},
   "outputs": [],
   "source": []
  }
 ],
 "metadata": {
  "kernelspec": {
   "display_name": "Python 3",
   "language": "python",
   "name": "python3"
  },
  "language_info": {
   "codemirror_mode": {
    "name": "ipython",
    "version": 3
   },
   "file_extension": ".py",
   "mimetype": "text/x-python",
   "name": "python",
   "nbconvert_exporter": "python",
   "pygments_lexer": "ipython3",
   "version": "3.8.8"
  }
 },
 "nbformat": 4,
 "nbformat_minor": 5
}
