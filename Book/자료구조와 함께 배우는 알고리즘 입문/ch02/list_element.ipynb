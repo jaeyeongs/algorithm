{
 "cells": [
  {
   "cell_type": "code",
   "execution_count": 1,
   "outputs": [
    {
     "name": "stdout",
     "output_type": "stream",
     "text": [
      "x[0] = 15\n",
      "x[1] = 64\n",
      "x[2] = 7\n",
      "x[3] = 3.14\n",
      "x[4] = [32, 55]\n",
      "x[5] = ABC\n"
     ]
    }
   ],
   "source": [
    "# 실습 2C-7\n",
    "# 자료형을 정하지 않은 리스트 원소 확인하기\n",
    "\n",
    "x = [15, 64, 7, 3.14, [32, 55], 'ABC']\n",
    "for i in range(len(x)):\n",
    "    print(f'x[{i}] = {x[i]}')"
   ],
   "metadata": {
    "collapsed": false,
    "pycharm": {
     "name": "#%%\n"
    }
   }
  },
  {
   "cell_type": "code",
   "execution_count": 3,
   "outputs": [
    {
     "name": "stdout",
     "output_type": "stream",
     "text": [
      "[[1, 2, 3], [4, 5, 6]]\n",
      "[[1, 2, 3], [4, 5, 6]]\n"
     ]
    }
   ],
   "source": [
    "# copy() 함수를 사용할 때 리스트를 복사한 후 원소값을 변경하면 복사된 원소값까지 변경될 수 있음\n",
    "\n",
    "x = [[1, 2, 3], [4, 5, 6]]\n",
    "y = x.copy()   # x를 y로 얕은 복사\n",
    "print(x)\n",
    "print(y)"
   ],
   "metadata": {
    "collapsed": false,
    "pycharm": {
     "name": "#%%\n"
    }
   }
  },
  {
   "cell_type": "code",
   "execution_count": 4,
   "outputs": [
    {
     "name": "stdout",
     "output_type": "stream",
     "text": [
      "[[1, 9, 3], [4, 5, 6]]\n",
      "[[1, 2, 3], [4, 5, 6]]\n"
     ]
    }
   ],
   "source": [
    "# deepcopy() 함수를 이용하여 깊은 복사를 수행\n",
    "# 깊은 복사를 할 경우 리스트의 원소값이 바뀌어도 복사된 리스트에는 영향을 주지 않음\n",
    "import copy\n",
    "\n",
    "x = [[1, 2, 3], [4, 5, 6]]\n",
    "y = copy.deepcopy(x)  # x를 y로 깊은 복사\n",
    "x[0][1] = 9\n",
    "print(x)\n",
    "print(y)              # y 배열은 영향을 받지 않음"
   ],
   "metadata": {
    "collapsed": false,
    "pycharm": {
     "name": "#%%\n"
    }
   }
  },
  {
   "cell_type": "code",
   "execution_count": null,
   "outputs": [],
   "source": [],
   "metadata": {
    "collapsed": false,
    "pycharm": {
     "name": "#%%\n"
    }
   }
  }
 ],
 "metadata": {
  "kernelspec": {
   "display_name": "Python 3",
   "language": "python",
   "name": "python3"
  },
  "language_info": {
   "codemirror_mode": {
    "name": "ipython",
    "version": 2
   },
   "file_extension": ".py",
   "mimetype": "text/x-python",
   "name": "python",
   "nbconvert_exporter": "python",
   "pygments_lexer": "ipython2",
   "version": "2.7.6"
  }
 },
 "nbformat": 4,
 "nbformat_minor": 0
}