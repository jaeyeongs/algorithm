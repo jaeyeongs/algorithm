{
 "cells": [
  {
   "cell_type": "code",
   "execution_count": 1,
   "id": "2033244a",
   "metadata": {},
   "outputs": [
    {
     "name": "stdout",
     "output_type": "stream",
     "text": [
      "세 정수의 중앙값을 구합니다.\n",
      "정수 a의 값을 입력하세요.:1\n",
      "정수 b의 값을 입력하세요.:3\n",
      "정수 c의 값을 입력하세요.:2\n",
      "중앙값은 2입니다.\n"
     ]
    }
   ],
   "source": [
    "# 세 정수를 입력받아 중앙값 구하기 1\n",
    "\n",
    "def med3(a, b, c):\n",
    "    if a >= b:\n",
    "        if b >= c:\n",
    "            return b\n",
    "        elif a <= c:\n",
    "            return a\n",
    "        else:\n",
    "            return c\n",
    "    elif a > c:\n",
    "        return a\n",
    "    elif b > c:\n",
    "        return c\n",
    "    else:\n",
    "        return b\n",
    "\n",
    "print('세 정수의 중앙값을 구합니다.')\n",
    "a = int(input('정수 a의 값을 입력하세요.:'))\n",
    "b = int(input('정수 b의 값을 입력하세요.:'))\n",
    "c = int(input('정수 c의 값을 입력하세요.:'))\n",
    "\n",
    "print(f'중앙값은 {med3(a, b, c)}입니다.')"
   ]
  },
  {
   "cell_type": "code",
   "execution_count": 2,
   "id": "7f6f1dc3",
   "metadata": {},
   "outputs": [
    {
     "name": "stdout",
     "output_type": "stream",
     "text": [
      "중앙값은 2입니다.\n"
     ]
    }
   ],
   "source": [
    "# 세 정수를 입력받아 중앙값 구하기 2\n",
    "# 1번 프로그램 보다는 짧고 간결하지만, a와 b의 비교를 이미 마친 상태에서 다시 elif에서 다시 비교하는 것은 효율적이지 않음\n",
    "\n",
    "def med3(a, b, c):\n",
    "    if (b >= a and c <= a) or (b <= a and c >= a):\n",
    "        return a\n",
    "    elif (a > b and c < b) or (a < b and c > b):\n",
    "        return b\n",
    "    return c\n",
    "\n",
    "print(f'중앙값은 {med3(1, 3, 2)}입니다.')"
   ]
  },
  {
   "cell_type": "code",
   "execution_count": null,
   "id": "dc3a8c1f",
   "metadata": {},
   "outputs": [],
   "source": []
  }
 ],
 "metadata": {
  "kernelspec": {
   "display_name": "Python 3",
   "language": "python",
   "name": "python3"
  },
  "language_info": {
   "codemirror_mode": {
    "name": "ipython",
    "version": 3
   },
   "file_extension": ".py",
   "mimetype": "text/x-python",
   "name": "python",
   "nbconvert_exporter": "python",
   "pygments_lexer": "ipython3",
   "version": "3.8.8"
  }
 },
 "nbformat": 4,
 "nbformat_minor": 5
}
