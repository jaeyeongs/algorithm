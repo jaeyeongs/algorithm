{
 "cells": [
  {
   "cell_type": "code",
   "execution_count": null,
   "id": "e81b12db",
   "metadata": {},
   "outputs": [],
   "source": [
    "# 실습 1-14\n",
    "# *를 n개 출력하되 w개마다 줄바꿈하기 1\n",
    "# 코드 실행 안됨\n",
    "\n",
    "print('*를 출력합니다.')\n",
    "n = int(input('몇 개를 출력할까요? : '))\n",
    "w = int(input('몇 개마다 줄바꿈할까요? : '))\n",
    "\n",
    "for i in range(n):      # n번 반복\n",
    "    print('*', end='')\n",
    "    if i % w == w - 1:  # n번 판단\n",
    "        print()         # 줄바꿈\n",
    "\n",
    "if n % w:\n",
    "    print()             # 줄바꿈"
   ]
  },
  {
   "cell_type": "code",
   "execution_count": null,
   "id": "fa0d35ae",
   "metadata": {},
   "outputs": [],
   "source": [
    "# 실습 1-15\n",
    "# *를 n개 출력하되 w개마다 줄바꿈하기 2\n",
    "# 코드 실행 안됨\n",
    "\n",
    "print('*를 출력합니다.')\n",
    "n = int(input('몇 개를 출력할까요?: '))\n",
    "w = int(input('몇 개를 줄바꿈할까요?: '))\n",
    "\n",
    "for _ in range(n // w):\n",
    "    print('*' * w)\n",
    "\n",
    "rest = n % w\n",
    "if rest:\n",
    "    print('*' * rest)"
   ]
  },
  {
   "cell_type": "code",
   "execution_count": null,
   "id": "60b2a3a0",
   "metadata": {},
   "outputs": [],
   "source": []
  }
 ],
 "metadata": {
  "kernelspec": {
   "display_name": "Python 3",
   "language": "python",
   "name": "python3"
  },
  "language_info": {
   "codemirror_mode": {
    "name": "ipython",
    "version": 3
   },
   "file_extension": ".py",
   "mimetype": "text/x-python",
   "name": "python",
   "nbconvert_exporter": "python",
   "pygments_lexer": "ipython3",
   "version": "3.8.8"
  }
 },
 "nbformat": 4,
 "nbformat_minor": 5
}
