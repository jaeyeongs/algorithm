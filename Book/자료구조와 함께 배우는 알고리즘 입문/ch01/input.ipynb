{
 "cells": [
  {
   "cell_type": "code",
   "execution_count": 1,
   "id": "190baeb3",
   "metadata": {},
   "outputs": [
    {
     "name": "stdout",
     "output_type": "stream",
     "text": [
      "이름을 입력하세요.:신재영\n",
      "안녕하세요? 신재영 님.\n"
     ]
    }
   ],
   "source": [
    "# 이름을 입력받아 인사하기\n",
    "print('이름을 입력하세요.:', end='')\n",
    "name = input()\n",
    "print(f'안녕하세요? {name} 님.')"
   ]
  },
  {
   "cell_type": "code",
   "execution_count": 2,
   "id": "a7a6a6fc",
   "metadata": {},
   "outputs": [
    {
     "name": "stdout",
     "output_type": "stream",
     "text": [
      "이름을 입력하세요.:신재영\n",
      "안녕하세요? 신재영 님.\n"
     ]
    }
   ],
   "source": [
    "# 이름을 입력받아 인사하기\n",
    "# 위의 코드를 더욱 간단히 하여 작성\n",
    "name = input('이름을 입력하세요.:')\n",
    "print(f'안녕하세요? {name} 님.')"
   ]
  },
  {
   "cell_type": "code",
   "execution_count": null,
   "id": "109cfd39",
   "metadata": {},
   "outputs": [],
   "source": []
  }
 ],
 "metadata": {
  "kernelspec": {
   "display_name": "Python 3",
   "language": "python",
   "name": "python3"
  },
  "language_info": {
   "codemirror_mode": {
    "name": "ipython",
    "version": 3
   },
   "file_extension": ".py",
   "mimetype": "text/x-python",
   "name": "python",
   "nbconvert_exporter": "python",
   "pygments_lexer": "ipython3",
   "version": "3.8.8"
  }
 },
 "nbformat": 4,
 "nbformat_minor": 5
}
