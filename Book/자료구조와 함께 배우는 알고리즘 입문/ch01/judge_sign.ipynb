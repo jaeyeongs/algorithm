{
 "cells": [
  {
   "cell_type": "code",
   "execution_count": 1,
   "id": "4be1a375",
   "metadata": {},
   "outputs": [
    {
     "name": "stdout",
     "output_type": "stream",
     "text": [
      "정수를 입력하세요.:17\n",
      "이 수는 양수 입니다.\n"
     ]
    }
   ],
   "source": [
    "# 입력받은 정수의 부호(양수, 음수, 0) 출력하기\n",
    "\n",
    "n = int(input('정수를 입력하세요.:'))\n",
    "\n",
    "if n > 0:\n",
    "    print('이 수는 양수 입니다.')\n",
    "elif n < 0:\n",
    "    print('이 수는 음수 입니다.')\n",
    "else:\n",
    "    print('이 수는 0입니다.')"
   ]
  },
  {
   "cell_type": "code",
   "execution_count": 2,
   "id": "9ef4cce4",
   "metadata": {},
   "outputs": [
    {
     "name": "stdout",
     "output_type": "stream",
     "text": [
      "정수를 입력하세요.:-1\n",
      "이 수는 음수 입니다.\n"
     ]
    }
   ],
   "source": [
    "n = int(input('정수를 입력하세요.:'))\n",
    "\n",
    "if n > 0:\n",
    "    print('이 수는 양수 입니다.')\n",
    "elif n < 0:\n",
    "    print('이 수는 음수 입니다.')\n",
    "else:\n",
    "    print('이 수는 0입니다.')"
   ]
  },
  {
   "cell_type": "code",
   "execution_count": 3,
   "id": "4c5ec3aa",
   "metadata": {},
   "outputs": [
    {
     "name": "stdout",
     "output_type": "stream",
     "text": [
      "정수를 입력하세요.:0\n",
      "이 수는 0입니다.\n"
     ]
    }
   ],
   "source": [
    "n = int(input('정수를 입력하세요.:'))\n",
    "\n",
    "if n > 0:\n",
    "    print('이 수는 양수 입니다.')\n",
    "elif n < 0:\n",
    "    print('이 수는 음수 입니다.')\n",
    "else:\n",
    "    print('이 수는 0입니다.')"
   ]
  },
  {
   "cell_type": "code",
   "execution_count": null,
   "id": "ce108904",
   "metadata": {},
   "outputs": [],
   "source": []
  }
 ],
 "metadata": {
  "kernelspec": {
   "display_name": "Python 3",
   "language": "python",
   "name": "python3"
  },
  "language_info": {
   "codemirror_mode": {
    "name": "ipython",
    "version": 3
   },
   "file_extension": ".py",
   "mimetype": "text/x-python",
   "name": "python",
   "nbconvert_exporter": "python",
   "pygments_lexer": "ipython3",
   "version": "3.8.8"
  }
 },
 "nbformat": 4,
 "nbformat_minor": 5
}
