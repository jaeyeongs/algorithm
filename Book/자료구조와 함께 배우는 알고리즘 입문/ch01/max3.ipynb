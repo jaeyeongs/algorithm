{
 "cells": [
  {
   "cell_type": "code",
   "execution_count": 1,
   "id": "660e3e42",
   "metadata": {},
   "outputs": [
    {
     "name": "stdout",
     "output_type": "stream",
     "text": [
      "세 정수의 최댓값을 구합니다.\n",
      "정수 a의 값을 입력하세요.:1\n",
      "정수 b의 값을 입력하세요.:3\n",
      "정수 c의 값을 입력하세요.:2\n",
      "최댓값은 3입니다.\n"
     ]
    }
   ],
   "source": [
    "# 세 정수를 입력받아 최댓값 구하기\n",
    "# input() 함수는 문자열을 반환하기 때문에 정수를 입력 받기 위해서는 int() 함수 이용\n",
    "\n",
    "print('세 정수의 최댓값을 구합니다.')\n",
    "a = int(input('정수 a의 값을 입력하세요.:'))\n",
    "b = int(input('정수 b의 값을 입력하세요.:'))\n",
    "c = int(input('정수 c의 값을 입력하세요.:'))\n",
    "\n",
    "maximum = a\n",
    "if b > maximum: maximum = b\n",
    "if c > maximum: maximum = c\n",
    "    \n",
    "print(f'최댓값은 {maximum}입니다.')"
   ]
  },
  {
   "cell_type": "code",
   "execution_count": 2,
   "id": "eea81a1b",
   "metadata": {},
   "outputs": [
    {
     "name": "stdout",
     "output_type": "stream",
     "text": [
      "max3(3, 2, 1) = 3\n",
      "max3(3, 2, 2) = 3\n",
      "max3(3, 1, 2) = 3\n",
      "max3(3, 2, 3) = 3\n",
      "max3(2, 1, 3) = 3\n"
     ]
    }
   ],
   "source": [
    "# 세 정수의 최댓값 구하기\n",
    "# 함수로 작성하여 최댓값 구하기\n",
    "# 개인적으로 위의 방식 보다는 함수로 정의하는게 더 깔끔한 알고리즘이라고 생각\n",
    "\n",
    "def max3(a, b, c):\n",
    "    maximum = a\n",
    "    if b > maximum: maximum = b\n",
    "    if c > maximum: maximum = c\n",
    "    return maximum\n",
    "\n",
    "print(f'max3(3, 2, 1) = {max3(3, 2, 1)}') # max3 함수의 세 입력 값 a=3, b=2, c=1\n",
    "print(f'max3(3, 2, 2) = {max3(3, 2, 2)}')\n",
    "print(f'max3(3, 1, 2) = {max3(3, 1, 2)}')\n",
    "print(f'max3(3, 2, 3) = {max3(3, 2, 3)}')\n",
    "print(f'max3(2, 1, 3) = {max3(2, 1, 3)}')"
   ]
  },
  {
   "cell_type": "code",
   "execution_count": null,
   "id": "e160c11a",
   "metadata": {},
   "outputs": [],
   "source": []
  }
 ],
 "metadata": {
  "kernelspec": {
   "display_name": "Python 3",
   "language": "python",
   "name": "python3"
  },
  "language_info": {
   "codemirror_mode": {
    "name": "ipython",
    "version": 3
   },
   "file_extension": ".py",
   "mimetype": "text/x-python",
   "name": "python",
   "nbconvert_exporter": "python",
   "pygments_lexer": "ipython3",
   "version": "3.8.8"
  }
 },
 "nbformat": 4,
 "nbformat_minor": 5
}
